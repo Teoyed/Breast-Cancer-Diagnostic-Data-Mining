{
 "cells": [
  {
   "cell_type": "markdown",
   "metadata": {},
   "source": [
    "# MRMR Feature Selection on Breast Cancer Dataset\n",
    "\n",
    "This notebook implements Minimum Redundancy Maximum Relevance (MRMR) feature selection on the Wisconsin breast cancer dataset."
   ]
  },
  {
   "cell_type": "markdown",
   "metadata": {},
   "source": [
    "## Import Libraries"
   ]
  },
  {
   "cell_type": "code",
   "execution_count": 1,
   "metadata": {},
   "outputs": [],
   "source": [
    "import pandas as pd\n",
    "import numpy as np\n",
    "from sklearn.model_selection import train_test_split\n",
    "from sklearn.preprocessing import StandardScaler\n",
    "from sklearn.ensemble import RandomForestClassifier\n",
    "from sklearn.metrics import accuracy_score, classification_report\n",
    "import matplotlib.pyplot as plt\n",
    "import warnings\n",
    "warnings.filterwarnings('ignore')"
   ]
  },
  {
   "cell_type": "markdown",
   "metadata": {},
   "source": [
    "## Load Dataset"
   ]
  },
  {
   "cell_type": "code",
   "execution_count": 9,
   "metadata": {},
   "outputs": [
    {
     "name": "stdout",
     "output_type": "stream",
     "text": [
      "Dataset shape: (569, 32)\n",
      "\n",
      "First few rows:\n",
      "         id diagnosis  radius_mean  texture_mean  perimeter_mean  area_mean  \\\n",
      "0    842302         M        17.99         10.38          122.80     1001.0   \n",
      "1    842517         M        20.57         17.77          132.90     1326.0   \n",
      "2  84300903         M        19.69         21.25          130.00     1203.0   \n",
      "3  84348301         M        11.42         20.38           77.58      386.1   \n",
      "4  84358402         M        20.29         14.34          135.10     1297.0   \n",
      "\n",
      "   smoothness_mean  compactness_mean  concavity_mean  concave points_mean  \\\n",
      "0          0.11840           0.27760          0.3001              0.14710   \n",
      "1          0.08474           0.07864          0.0869              0.07017   \n",
      "2          0.10960           0.15990          0.1974              0.12790   \n",
      "3          0.14250           0.28390          0.2414              0.10520   \n",
      "4          0.10030           0.13280          0.1980              0.10430   \n",
      "\n",
      "   ...  radius_worst  texture_worst  perimeter_worst  area_worst  \\\n",
      "0  ...         25.38          17.33           184.60      2019.0   \n",
      "1  ...         24.99          23.41           158.80      1956.0   \n",
      "2  ...         23.57          25.53           152.50      1709.0   \n",
      "3  ...         14.91          26.50            98.87       567.7   \n",
      "4  ...         22.54          16.67           152.20      1575.0   \n",
      "\n",
      "   smoothness_worst  compactness_worst  concavity_worst  concave points_worst  \\\n",
      "0            0.1622             0.6656           0.7119                0.2654   \n",
      "1            0.1238             0.1866           0.2416                0.1860   \n",
      "2            0.1444             0.4245           0.4504                0.2430   \n",
      "3            0.2098             0.8663           0.6869                0.2575   \n",
      "4            0.1374             0.2050           0.4000                0.1625   \n",
      "\n",
      "   symmetry_worst  fractal_dimension_worst  \n",
      "0          0.4601                  0.11890  \n",
      "1          0.2750                  0.08902  \n",
      "2          0.3613                  0.08758  \n",
      "3          0.6638                  0.17300  \n",
      "4          0.2364                  0.07678  \n",
      "\n",
      "[5 rows x 32 columns]\n",
      "\n",
      "Dataset info:\n",
      "<class 'pandas.core.frame.DataFrame'>\n",
      "RangeIndex: 569 entries, 0 to 568\n",
      "Data columns (total 32 columns):\n",
      " #   Column                   Non-Null Count  Dtype  \n",
      "---  ------                   --------------  -----  \n",
      " 0   id                       569 non-null    int64  \n",
      " 1   diagnosis                569 non-null    object \n",
      " 2   radius_mean              569 non-null    float64\n",
      " 3   texture_mean             569 non-null    float64\n",
      " 4   perimeter_mean           569 non-null    float64\n",
      " 5   area_mean                569 non-null    float64\n",
      " 6   smoothness_mean          569 non-null    float64\n",
      " 7   compactness_mean         569 non-null    float64\n",
      " 8   concavity_mean           569 non-null    float64\n",
      " 9   concave points_mean      569 non-null    float64\n",
      " 10  symmetry_mean            569 non-null    float64\n",
      " 11  fractal_dimension_mean   569 non-null    float64\n",
      " 12  radius_se                569 non-null    float64\n",
      " 13  texture_se               569 non-null    float64\n",
      " 14  perimeter_se             569 non-null    float64\n",
      " 15  area_se                  569 non-null    float64\n",
      " 16  smoothness_se            569 non-null    float64\n",
      " 17  compactness_se           569 non-null    float64\n",
      " 18  concavity_se             569 non-null    float64\n",
      " 19  concave points_se        569 non-null    float64\n",
      " 20  symmetry_se              569 non-null    float64\n",
      " 21  fractal_dimension_se     569 non-null    float64\n",
      " 22  radius_worst             569 non-null    float64\n",
      " 23  texture_worst            569 non-null    float64\n",
      " 24  perimeter_worst          569 non-null    float64\n",
      " 25  area_worst               569 non-null    float64\n",
      " 26  smoothness_worst         569 non-null    float64\n",
      " 27  compactness_worst        569 non-null    float64\n",
      " 28  concavity_worst          569 non-null    float64\n",
      " 29  concave points_worst     569 non-null    float64\n",
      " 30  symmetry_worst           569 non-null    float64\n",
      " 31  fractal_dimension_worst  569 non-null    float64\n",
      "dtypes: float64(30), int64(1), object(1)\n",
      "memory usage: 142.4+ KB\n",
      "None\n"
     ]
    }
   ],
   "source": [
    "# Load your CSV file\n",
    "df = pd.read_csv('/Users/pofilla/Library/Mobile Documents/com~apple~CloudDocs/University/7th Term/Data Mining/Project/Breast Cancer Diagnostic Data Mining/Docs/data.csv')  # Replace with your actual file path\n",
    "\n",
    "print(f\"Dataset shape: {df.shape}\")\n",
    "print(f\"\\nFirst few rows:\")\n",
    "print(df.head())\n",
    "print(f\"\\nDataset info:\")\n",
    "print(df.info())"
   ]
  },
  {
   "cell_type": "markdown",
   "metadata": {},
   "source": [
    "## Prepare Data"
   ]
  },
  {
   "cell_type": "code",
   "execution_count": 10,
   "metadata": {},
   "outputs": [
    {
     "name": "stdout",
     "output_type": "stream",
     "text": [
      "Features shape: (569, 31)\n",
      "Target shape: (569,)\n",
      "\n",
      "Number of features: 31\n",
      "Number of records: 569\n",
      "\n",
      "Target distribution:\n",
      "diagnosis\n",
      "B    357\n",
      "M    212\n",
      "Name: count, dtype: int64\n"
     ]
    }
   ],
   "source": [
    "# Separate features and target\n",
    "# Assuming the target column is 'diagnosis' or the last column\n",
    "# Adjust column name if needed\n",
    "X = df.drop('diagnosis', axis=1)  # Replace 'diagnosis' with your target column name\n",
    "y = df['diagnosis']\n",
    "\n",
    "print(f\"Features shape: {X.shape}\")\n",
    "print(f\"Target shape: {y.shape}\")\n",
    "print(f\"\\nNumber of features: {X.shape[1]}\")\n",
    "print(f\"Number of records: {X.shape[0]}\")\n",
    "print(f\"\\nTarget distribution:\")\n",
    "print(y.value_counts())"
   ]
  },
  {
   "cell_type": "markdown",
   "metadata": {},
   "source": [
    "## Train-Test Split (80-20)"
   ]
  },
  {
   "cell_type": "code",
   "execution_count": 11,
   "metadata": {},
   "outputs": [
    {
     "name": "stdout",
     "output_type": "stream",
     "text": [
      "Training set size: (455, 31)\n",
      "Test set size: (114, 31)\n",
      "\n",
      "Training target distribution:\n",
      "diagnosis\n",
      "B    285\n",
      "M    170\n",
      "Name: count, dtype: int64\n",
      "\n",
      "Test target distribution:\n",
      "diagnosis\n",
      "B    72\n",
      "M    42\n",
      "Name: count, dtype: int64\n"
     ]
    }
   ],
   "source": [
    "# Split into 80% train and 20% test\n",
    "X_train, X_test, y_train, y_test = train_test_split(\n",
    "    X, y, test_size=0.2, random_state=42, stratify=y\n",
    ")\n",
    "\n",
    "print(f\"Training set size: {X_train.shape}\")\n",
    "print(f\"Test set size: {X_test.shape}\")\n",
    "print(f\"\\nTraining target distribution:\")\n",
    "print(y_train.value_counts())\n",
    "print(f\"\\nTest target distribution:\")\n",
    "print(y_test.value_counts())"
   ]
  },
  {
   "cell_type": "markdown",
   "metadata": {},
   "source": [
    "## MRMR Feature Selection Implementation"
   ]
  },
  {
   "cell_type": "code",
   "execution_count": 12,
   "metadata": {},
   "outputs": [],
   "source": [
    "def calculate_mutual_information(feature, target):\n",
    "    \"\"\"\n",
    "    Calculate mutual information between a feature and target.\n",
    "    MI measures how much knowing one variable tells us about another.\n",
    "    \"\"\"\n",
    "    # Create bins for continuous features\n",
    "    feature_bins = pd.cut(feature, bins=10, duplicates='drop')\n",
    "    target_bins = target\n",
    "    \n",
    "    # Create contingency table\n",
    "    contingency = pd.crosstab(feature_bins, target_bins)\n",
    "    \n",
    "    # Calculate probabilities\n",
    "    pxy = contingency / contingency.sum().sum()\n",
    "    px = pxy.sum(axis=1)\n",
    "    py = pxy.sum(axis=0)\n",
    "    \n",
    "    # Calculate MI\n",
    "    mi = 0\n",
    "    for i in range(len(px)):\n",
    "        for j in range(len(py)):\n",
    "            if pxy.iloc[i, j] > 0:\n",
    "                mi += pxy.iloc[i, j] * np.log2(pxy.iloc[i, j] / (px.iloc[i] * py.iloc[j]))\n",
    "    \n",
    "    return mi"
   ]
  },
  {
   "cell_type": "code",
   "execution_count": 13,
   "metadata": {},
   "outputs": [],
   "source": [
    "def mrmr_feature_selection(X_train, y_train, num_features=10):\n",
    "    \"\"\"\n",
    "    MRMR Feature Selection Algorithm\n",
    "    Selects features that are highly relevant to target and have low redundancy.\n",
    "    \n",
    "    Parameters:\n",
    "    - X_train: Training features\n",
    "    - y_train: Training target\n",
    "    - num_features: Number of features to select\n",
    "    \n",
    "    Returns:\n",
    "    - selected_features: List of selected feature names\n",
    "    - scores: MRMR scores for each selected feature\n",
    "    \"\"\"\n",
    "    selected_features = []\n",
    "    scores = []\n",
    "    remaining_features = list(X_train.columns)\n",
    "    \n",
    "    print(f\"Starting MRMR feature selection for {num_features} features...\\n\")\n",
    "    \n",
    "    # Step 1: Select first feature with maximum relevance to target\n",
    "    relevances = {}\n",
    "    for feature in remaining_features:\n",
    "        mi = calculate_mutual_information(X_train[feature].values, y_train.values)\n",
    "        relevances[feature] = mi\n",
    "    \n",
    "    first_feature = max(relevances, key=relevances.get)\n",
    "    selected_features.append(first_feature)\n",
    "    scores.append(relevances[first_feature])\n",
    "    remaining_features.remove(first_feature)\n",
    "    \n",
    "    print(f\"1. Selected: {first_feature}\")\n",
    "    print(f\"   Relevance Score: {relevances[first_feature]:.4f}\\n\")\n",
    "    \n",
    "    # Step 2: Iteratively select remaining features\n",
    "    for i in range(1, num_features):\n",
    "        if not remaining_features:\n",
    "            print(\"No more features to select!\")\n",
    "            break\n",
    "        \n",
    "        best_score = -np.inf\n",
    "        best_feature = None\n",
    "        best_relevance = None\n",
    "        best_redundancy = None\n",
    "        \n",
    "        for feature in remaining_features:\n",
    "            # Calculate relevance to target\n",
    "            relevance = calculate_mutual_information(X_train[feature].values, y_train.values)\n",
    "            \n",
    "            # Calculate redundancy with already selected features\n",
    "            redundancy = 0\n",
    "            for selected in selected_features:\n",
    "                mi = calculate_mutual_information(\n",
    "                    X_train[feature].values,\n",
    "                    X_train[selected].values\n",
    "                )\n",
    "                redundancy += mi\n",
    "            \n",
    "            redundancy = redundancy / len(selected_features)\n",
    "            \n",
    "            # MRMR Score = Relevance - Redundancy\n",
    "            mrmr_score = relevance - redundancy\n",
    "            \n",
    "            if mrmr_score > best_score:\n",
    "                best_score = mrmr_score\n",
    "                best_feature = feature\n",
    "                best_relevance = relevance\n",
    "                best_redundancy = redundancy\n",
    "        \n",
    "        selected_features.append(best_feature)\n",
    "        scores.append(best_score)\n",
    "        remaining_features.remove(best_feature)\n",
    "        \n",
    "        print(f\"{i+1}. Selected: {best_feature}\")\n",
    "        print(f\"   Relevance: {best_relevance:.4f}\")\n",
    "        print(f\"   Redundancy: {best_redundancy:.4f}\")\n",
    "        print(f\"   MRMR Score: {best_score:.4f}\\n\")\n",
    "    \n",
    "    return selected_features, scores"
   ]
  },
  {
   "cell_type": "markdown",
   "metadata": {},
   "source": [
    "## Run MRMR Feature Selection"
   ]
  },
  {
   "cell_type": "code",
   "execution_count": 14,
   "metadata": {},
   "outputs": [
    {
     "name": "stdout",
     "output_type": "stream",
     "text": [
      "Starting MRMR feature selection for 10 features...\n",
      "\n",
      "1. Selected: perimeter_worst\n",
      "   Relevance Score: 0.6491\n",
      "\n",
      "2. Selected: id\n",
      "   Relevance: 0.0014\n",
      "   Redundancy: 0.2865\n",
      "   MRMR Score: -0.2851\n",
      "\n",
      "3. Selected: area_se\n",
      "   Relevance: 0.3012\n",
      "   Redundancy: 0.9151\n",
      "   MRMR Score: -0.6139\n",
      "\n",
      "4. Selected: concavity_se\n",
      "   Relevance: 0.0659\n",
      "   Redundancy: 1.0569\n",
      "   MRMR Score: -0.9910\n",
      "\n",
      "5. Selected: perimeter_se\n",
      "   Relevance: 0.2944\n",
      "   Redundancy: 1.3750\n",
      "   MRMR Score: -1.0806\n",
      "\n",
      "6. Selected: radius_se\n",
      "   Relevance: 0.3116\n",
      "   Redundancy: 1.4993\n",
      "   MRMR Score: -1.1878\n",
      "\n",
      "7. Selected: fractal_dimension_se\n",
      "   Relevance: 0.0370\n",
      "   Redundancy: 1.3257\n",
      "   MRMR Score: -1.2887\n",
      "\n",
      "8. Selected: area_worst\n",
      "   Relevance: 0.5692\n",
      "   Redundancy: 2.1079\n",
      "   MRMR Score: -1.5386\n",
      "\n",
      "9. Selected: smoothness_se\n",
      "   Relevance: 0.0264\n",
      "   Redundancy: 1.7401\n",
      "   MRMR Score: -1.7136\n",
      "\n",
      "10. Selected: area_mean\n",
      "   Relevance: 0.4979\n",
      "   Redundancy: 2.2606\n",
      "   MRMR Score: -1.7627\n",
      "\n"
     ]
    }
   ],
   "source": [
    "# Select top 10 features using MRMR\n",
    "num_features_to_select = 10\n",
    "selected_features, mrmr_scores = mrmr_feature_selection(X_train, y_train, num_features_to_select)"
   ]
  },
  {
   "cell_type": "markdown",
   "metadata": {},
   "source": [
    "## Selected Features Summary"
   ]
  },
  {
   "cell_type": "code",
   "execution_count": 15,
   "metadata": {},
   "outputs": [
    {
     "name": "stdout",
     "output_type": "stream",
     "text": [
      "============================================================\n",
      "Top 10 Features Selected by MRMR:\n",
      "============================================================\n",
      " 1. perimeter_worst                | Score:   0.6491\n",
      " 2. id                             | Score:  -0.2851\n",
      " 3. area_se                        | Score:  -0.6139\n",
      " 4. concavity_se                   | Score:  -0.9910\n",
      " 5. perimeter_se                   | Score:  -1.0806\n",
      " 6. radius_se                      | Score:  -1.1878\n",
      " 7. fractal_dimension_se           | Score:  -1.2887\n",
      " 8. area_worst                     | Score:  -1.5386\n",
      " 9. smoothness_se                  | Score:  -1.7136\n",
      "10. area_mean                      | Score:  -1.7627\n",
      "\n",
      " Rank              Feature  MRMR Score\n",
      "    1      perimeter_worst    0.649143\n",
      "    2                   id   -0.285089\n",
      "    3              area_se   -0.613856\n",
      "    4         concavity_se   -0.990975\n",
      "    5         perimeter_se   -1.080624\n",
      "    6            radius_se   -1.187788\n",
      "    7 fractal_dimension_se   -1.288714\n",
      "    8           area_worst   -1.538602\n",
      "    9        smoothness_se   -1.713623\n",
      "   10            area_mean   -1.762663\n"
     ]
    }
   ],
   "source": [
    "print(f\"{'='*60}\")\n",
    "print(f\"Top {num_features_to_select} Features Selected by MRMR:\")\n",
    "print(f\"{'='*60}\")\n",
    "for i, (feat, score) in enumerate(zip(selected_features, mrmr_scores), 1):\n",
    "    print(f\"{i:2d}. {feat:30s} | Score: {score:8.4f}\")\n",
    "\n",
    "# Create summary dataframe\n",
    "summary_df = pd.DataFrame({\n",
    "    'Rank': range(1, len(selected_features) + 1),\n",
    "    'Feature': selected_features,\n",
    "    'MRMR Score': mrmr_scores\n",
    "})\n",
    "\n",
    "print(f\"\\n{summary_df.to_string(index=False)}\")"
   ]
  },
  {
   "cell_type": "markdown",
   "metadata": {},
   "source": [
    "## Train Model with Selected Features"
   ]
  },
  {
   "cell_type": "code",
   "execution_count": 16,
   "metadata": {},
   "outputs": [
    {
     "name": "stdout",
     "output_type": "stream",
     "text": [
      "Training Random Forest Classifier with 10 selected features...\n",
      "\n",
      "Model trained successfully!\n"
     ]
    }
   ],
   "source": [
    "# Prepare data with selected features\n",
    "X_train_selected = X_train[selected_features]\n",
    "X_test_selected = X_test[selected_features]\n",
    "\n",
    "# Scale features\n",
    "scaler = StandardScaler()\n",
    "X_train_scaled = scaler.fit_transform(X_train_selected)\n",
    "X_test_scaled = scaler.transform(X_test_selected)\n",
    "\n",
    "# Train Random Forest classifier\n",
    "print(f\"Training Random Forest Classifier with {num_features_to_select} selected features...\\n\")\n",
    "\n",
    "clf = RandomForestClassifier(n_estimators=100, random_state=42)\n",
    "clf.fit(X_train_scaled, y_train)\n",
    "\n",
    "print(\"Model trained successfully!\")"
   ]
  },
  {
   "cell_type": "markdown",
   "metadata": {},
   "source": [
    "## Evaluate Model with Selected Features"
   ]
  },
  {
   "cell_type": "code",
   "execution_count": 17,
   "metadata": {},
   "outputs": [
    {
     "name": "stdout",
     "output_type": "stream",
     "text": [
      "============================================================\n",
      "Results with 10 Selected Features\n",
      "============================================================\n",
      "\n",
      "Accuracy: 0.9298\n",
      "\n",
      "Classification Report:\n",
      "              precision    recall  f1-score   support\n",
      "\n",
      "           B       0.92      0.97      0.95        72\n",
      "           M       0.95      0.86      0.90        42\n",
      "\n",
      "    accuracy                           0.93       114\n",
      "   macro avg       0.93      0.91      0.92       114\n",
      "weighted avg       0.93      0.93      0.93       114\n",
      "\n"
     ]
    }
   ],
   "source": [
    "# Make predictions\n",
    "y_pred = clf.predict(X_test_scaled)\n",
    "\n",
    "# Calculate accuracy\n",
    "accuracy_selected = accuracy_score(y_test, y_pred)\n",
    "\n",
    "print(f\"{'='*60}\")\n",
    "print(f\"Results with {num_features_to_select} Selected Features\")\n",
    "print(f\"{'='*60}\\n\")\n",
    "\n",
    "print(f\"Accuracy: {accuracy_selected:.4f}\\n\")\n",
    "print(\"Classification Report:\")\n",
    "print(classification_report(y_test, y_pred))"
   ]
  },
  {
   "cell_type": "markdown",
   "metadata": {},
   "source": [
    "## Compare with All Features"
   ]
  },
  {
   "cell_type": "code",
   "execution_count": 18,
   "metadata": {},
   "outputs": [
    {
     "name": "stdout",
     "output_type": "stream",
     "text": [
      "Training Random Forest Classifier with all 31 features...\n",
      "\n",
      "============================================================\n",
      "Comparison: All Features vs Selected Features\n",
      "============================================================\n",
      "\n",
      "Accuracy with all 31 features: 0.9561\n",
      "Accuracy with 10 selected features: 0.9298\n",
      "Difference: 0.0263\n",
      "\n",
      "Feature reduction: 31 → 10 (67.7% reduction)\n"
     ]
    }
   ],
   "source": [
    "# Train model with all features\n",
    "print(f\"Training Random Forest Classifier with all {X_train.shape[1]} features...\\n\")\n",
    "\n",
    "scaler_all = StandardScaler()\n",
    "X_train_all_scaled = scaler_all.fit_transform(X_train)\n",
    "X_test_all_scaled = scaler_all.transform(X_test)\n",
    "\n",
    "clf_all = RandomForestClassifier(n_estimators=100, random_state=42)\n",
    "clf_all.fit(X_train_all_scaled, y_train)\n",
    "\n",
    "y_pred_all = clf_all.predict(X_test_all_scaled)\n",
    "accuracy_all = accuracy_score(y_test, y_pred_all)\n",
    "\n",
    "print(f\"{'='*60}\")\n",
    "print(f\"Comparison: All Features vs Selected Features\")\n",
    "print(f\"{'='*60}\\n\")\n",
    "\n",
    "print(f\"Accuracy with all {X_train.shape[1]} features: {accuracy_all:.4f}\")\n",
    "print(f\"Accuracy with {num_features_to_select} selected features: {accuracy_selected:.4f}\")\n",
    "print(f\"Difference: {accuracy_all - accuracy_selected:.4f}\")\n",
    "print(f\"\\nFeature reduction: {X_train.shape[1]} → {num_features_to_select} ({(1 - num_features_to_select/X_train.shape[1])*100:.1f}% reduction)\")"
   ]
  },
  {
   "cell_type": "markdown",
   "metadata": {},
   "source": [
    "## Visualization"
   ]
  },
  {
   "cell_type": "code",
   "execution_count": 19,
   "metadata": {},
   "outputs": [
    {
     "data": {
      "image/png": "[encoded data removed]",
      "text/plain": [
       "<Figure size 1400x500 with 2 Axes>"
      ]
     },
     "metadata": {},
     "output_type": "display_data"
    },
    {
     "name": "stdout",
     "output_type": "stream",
     "text": [
      "Visualization completed!\n"
     ]
    }
   ],
   "source": [
    "fig, axes = plt.subplots(1, 2, figsize=(14, 5))\n",
    "\n",
    "# Plot 1: MRMR Scores\n",
    "axes[0].barh(range(len(selected_features)), mrmr_scores, color='#3498db', edgecolor='black')\n",
    "axes[0].set_yticks(range(len(selected_features)))\n",
    "axes[0].set_yticklabels(selected_features)\n",
    "axes[0].set_xlabel('MRMR Score', fontsize=12, fontweight='bold')\n",
    "axes[0].set_title(f'Top {num_features_to_select} Features by MRMR Score', fontsize=12, fontweight='bold')\n",
    "axes[0].invert_yaxis()\n",
    "axes[0].grid(axis='x', alpha=0.3)\n",
    "\n",
    "# Plot 2: Accuracy Comparison\n",
    "categories = [f'All Features\\n({X_train.shape[1]})', f'Selected Features\\n({num_features_to_select})']\n",
    "accuracies = [accuracy_all, accuracy_selected]\n",
    "colors = ['#e74c3c', '#2ecc71']\n",
    "\n",
    "bars = axes[1].bar(categories, accuracies, color=colors, alpha=0.7, edgecolor='black', linewidth=2)\n",
    "axes[1].set_ylabel('Accuracy', fontsize=12, fontweight='bold')\n",
    "axes[1].set_title('Model Performance Comparison', fontsize=12, fontweight='bold')\n",
    "axes[1].set_ylim([min(accuracies) - 0.02, 1.0])\n",
    "axes[1].grid(axis='y', alpha=0.3)\n",
    "\n",
    "# Add value labels on bars\n",
    "for bar, acc in zip(bars, accuracies):\n",
    "    height = bar.get_height()\n",
    "    axes[1].text(bar.get_x() + bar.get_width()/2., height,\n",
    "                f'{acc:.4f}', ha='center', va='bottom', fontsize=11, fontweight='bold')\n",
    "\n",
    "plt.tight_layout()\n",
    "plt.show()\n",
    "\n",
    "print(\"Visualization completed!\")"
   ]
  },
  {
   "cell_type": "markdown",
   "metadata": {},
   "source": [
    "## Summary and Insights"
   ]
  },
  {
   "cell_type": "code",
   "execution_count": 20,
   "metadata": {},
   "outputs": [
    {
     "name": "stdout",
     "output_type": "stream",
     "text": [
      "\n",
      "======================================================================\n",
      "MRMR FEATURE SELECTION - SUMMARY\n",
      "======================================================================\n",
      "\n",
      "Dataset Information:\n",
      "  - Total records: 569\n",
      "  - Total features: 31\n",
      "  - Training set: 455 records\n",
      "  - Test set: 114 records\n",
      "\n",
      "MRMR Selection Results:\n",
      "  - Features selected: 10\n",
      "  - Features reduced: 21\n",
      "  - Reduction percentage: 67.7%\n",
      "\n",
      "Model Performance:\n",
      "  - Accuracy (all features): 0.9561\n",
      "  - Accuracy (selected features): 0.9298\n",
      "  - Difference: +0.0263\n",
      "\n",
      "⚠ Consider increasing the number of selected features for better performance.\n"
     ]
    }
   ],
   "source": [
    "print(f\"\\n{'='*70}\")\n",
    "print(\"MRMR FEATURE SELECTION - SUMMARY\")\n",
    "print(f\"{'='*70}\\n\")\n",
    "\n",
    "print(f\"Dataset Information:\")\n",
    "print(f\"  - Total records: {X.shape[0]}\")\n",
    "print(f\"  - Total features: {X.shape[1]}\")\n",
    "print(f\"  - Training set: {X_train.shape[0]} records\")\n",
    "print(f\"  - Test set: {X_test.shape[0]} records\")\n",
    "\n",
    "print(f\"\\nMRMR Selection Results:\")\n",
    "print(f\"  - Features selected: {num_features_to_select}\")\n",
    "print(f\"  - Features reduced: {X_train.shape[1] - num_features_to_select}\")\n",
    "print(f\"  - Reduction percentage: {(1 - num_features_to_select/X_train.shape[1])*100:.1f}%\")\n",
    "\n",
    "print(f\"\\nModel Performance:\")\n",
    "print(f\"  - Accuracy (all features): {accuracy_all:.4f}\")\n",
    "print(f\"  - Accuracy (selected features): {accuracy_selected:.4f}\")\n",
    "print(f\"  - Difference: {accuracy_all - accuracy_selected:+.4f}\")\n",
    "\n",
    "if accuracy_selected >= accuracy_all - 0.01:\n",
    "    print(f\"\\n✓ MRMR successfully selected a reduced feature set with comparable accuracy!\")\n",
    "else:\n",
    "    print(f\"\\n⚠ Consider increasing the number of selected features for better performance.\")"
   ]
  }
 ],
 "metadata": {
  "kernelspec": {
   "display_name": "Python 3",
   "language": "python",
   "name": "python3"
  },
  "language_info": {
   "codemirror_mode": {
    "name": "ipython",
    "version": 3
   },
   "file_extension": ".py",
   "mimetype": "text/x-python",
   "name": "python",
   "nbconvert_exporter": "python",
   "pygments_lexer": "ipython3",
   "version": "3.13.7"
  }
 },
 "nbformat": 4,
 "nbformat_minor": 4
}
