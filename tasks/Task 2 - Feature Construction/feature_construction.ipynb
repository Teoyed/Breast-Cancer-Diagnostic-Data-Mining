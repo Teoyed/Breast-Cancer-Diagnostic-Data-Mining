{
 "cells": [
  {
   "cell_type": "markdown",
   "id": "54ffd5f8",
   "metadata": {},
   "source": [
    "## Import Libraries"
   ]
  },
  {
   "cell_type": "code",
   "execution_count": 1,
   "id": "2d0b1c9f",
   "metadata": {},
   "outputs": [],
   "source": [
    "import pandas as pd"
   ]
  },
  {
   "cell_type": "markdown",
   "id": "13701527",
   "metadata": {},
   "source": [
    "## Load the dataset"
   ]
  },
  {
   "cell_type": "code",
   "execution_count": 2,
   "id": "6cdfa69e",
   "metadata": {},
   "outputs": [],
   "source": [
    "df = pd.read_csv('/Users/pofilla/Library/Mobile Documents/com~apple~CloudDocs/University/7th Term/Data Mining/Project/Breast Cancer Diagnostic Data Mining/Docs/data.csv')"
   ]
  },
  {
   "cell_type": "markdown",
   "id": "d0062d10",
   "metadata": {},
   "source": [
    "### 1. Area-to-Perimeter Mean Ratio (rounded to 2 decimal places)"
   ]
  },
  {
   "cell_type": "code",
   "execution_count": 3,
   "id": "1de96fff",
   "metadata": {},
   "outputs": [],
   "source": [
    "df['NEW_area_to_perimeter_mean'] = (df['area_mean'] / df['perimeter_mean']).round(2)"
   ]
  },
  {
   "cell_type": "markdown",
   "id": "102bd0df",
   "metadata": {},
   "source": [
    "### 2. Radius Range (rounded to 2 decimal places)"
   ]
  },
  {
   "cell_type": "code",
   "execution_count": 4,
   "id": "f1bb73e3",
   "metadata": {},
   "outputs": [],
   "source": [
    "df['NEW_radius_range'] = (df['radius_worst'] - df['radius_mean']).round(2)"
   ]
  },
  {
   "cell_type": "markdown",
   "id": "e97b78a1",
   "metadata": {},
   "source": [
    "### 3. Area Range (rounded to 2 decimal places)"
   ]
  },
  {
   "cell_type": "code",
   "execution_count": 5,
   "id": "01da4f71",
   "metadata": {},
   "outputs": [],
   "source": [
    "df['NEW_area_range'] = (df['area_worst'] - df['area_mean']).round(2)"
   ]
  },
  {
   "cell_type": "markdown",
   "id": "526d3a39",
   "metadata": {},
   "source": [
    "### 4. Concavity-to-Compactness Ratio (rounded to 2 decimal places)"
   ]
  },
  {
   "cell_type": "code",
   "execution_count": 6,
   "id": "a82b034a",
   "metadata": {},
   "outputs": [],
   "source": [
    "df['NEW_concavity_to_compactness_mean'] = (df['concavity_mean'] / df['compactness_mean']).round(2)"
   ]
  },
  {
   "cell_type": "markdown",
   "id": "fd937ce0",
   "metadata": {},
   "source": [
    "### 5. Severity Index (rounded to 2 decimal places)"
   ]
  },
  {
   "cell_type": "code",
   "execution_count": 7,
   "id": "58d9ddb1",
   "metadata": {},
   "outputs": [],
   "source": [
    "df['NEW_severity_index'] = (df['area_worst'] + df['concave points_worst']).round(2)"
   ]
  },
  {
   "cell_type": "markdown",
   "id": "bf2c5dbb",
   "metadata": {},
   "source": [
    "### 6. Shape Complexity Mean (rounded to 2 decimal places)"
   ]
  },
  {
   "cell_type": "code",
   "execution_count": 8,
   "id": "1bef9097",
   "metadata": {},
   "outputs": [],
   "source": [
    "df['NEW_shape_complexity_mean'] = (\n",
    "    (df['smoothness_mean'] + df['compactness_mean'] + df['concavity_mean'] + df['concave points_mean']) / 4\n",
    ").round(2)"
   ]
  },
  {
   "cell_type": "markdown",
   "id": "f314b88d",
   "metadata": {},
   "source": [
    "## Display the first few rows to verify"
   ]
  },
  {
   "cell_type": "code",
   "execution_count": 9,
   "id": "133170e2",
   "metadata": {},
   "outputs": [
    {
     "name": "stdout",
     "output_type": "stream",
     "text": [
      "         id diagnosis  radius_mean  texture_mean  perimeter_mean  area_mean  \\\n",
      "564  926424         M        21.56         22.39          142.00     1479.0   \n",
      "565  926682         M        20.13         28.25          131.20     1261.0   \n",
      "566  926954         M        16.60         28.08          108.30      858.1   \n",
      "567  927241         M        20.60         29.33          140.10     1265.0   \n",
      "568   92751         B         7.76         24.54           47.92      181.0   \n",
      "\n",
      "     smoothness_mean  compactness_mean  concavity_mean  concave points_mean  \\\n",
      "564          0.11100           0.11590         0.24390              0.13890   \n",
      "565          0.09780           0.10340         0.14400              0.09791   \n",
      "566          0.08455           0.10230         0.09251              0.05302   \n",
      "567          0.11780           0.27700         0.35140              0.15200   \n",
      "568          0.05263           0.04362         0.00000              0.00000   \n",
      "\n",
      "     ...  concavity_worst  concave points_worst  symmetry_worst  \\\n",
      "564  ...           0.4107                0.2216          0.2060   \n",
      "565  ...           0.3215                0.1628          0.2572   \n",
      "566  ...           0.3403                0.1418          0.2218   \n",
      "567  ...           0.9387                0.2650          0.4087   \n",
      "568  ...           0.0000                0.0000          0.2871   \n",
      "\n",
      "     fractal_dimension_worst  NEW_area_to_perimeter_mean  NEW_radius_range  \\\n",
      "564                  0.07115                       10.42              3.89   \n",
      "565                  0.06637                        9.61              3.56   \n",
      "566                  0.07820                        7.92              2.38   \n",
      "567                  0.12400                        9.03              5.14   \n",
      "568                  0.07039                        3.78              1.70   \n",
      "\n",
      "     NEW_area_range  NEW_concavity_to_compactness_mean  NEW_severity_index  \\\n",
      "564           548.0                               2.10             2027.22   \n",
      "565           470.0                               1.39             1731.16   \n",
      "566           265.9                               0.90             1124.14   \n",
      "567           556.0                               1.27             1821.26   \n",
      "568            87.6                               0.00              268.60   \n",
      "\n",
      "     NEW_shape_complexity_mean  \n",
      "564                       0.15  \n",
      "565                       0.11  \n",
      "566                       0.08  \n",
      "567                       0.22  \n",
      "568                       0.02  \n",
      "\n",
      "[5 rows x 38 columns]\n"
     ]
    }
   ],
   "source": [
    "print(df.tail())"
   ]
  },
  {
   "cell_type": "markdown",
   "id": "23d50508",
   "metadata": {},
   "source": [
    "## Save the updated dataset to a new CSV file"
   ]
  },
  {
   "cell_type": "code",
   "execution_count": 10,
   "id": "0029d419",
   "metadata": {},
   "outputs": [],
   "source": [
    "df.to_csv('feature_constructed_dataset.csv', index=False)"
   ]
  }
 ],
 "metadata": {
  "kernelspec": {
   "display_name": "Python 3",
   "language": "python",
   "name": "python3"
  },
  "language_info": {
   "codemirror_mode": {
    "name": "ipython",
    "version": 3
   },
   "file_extension": ".py",
   "mimetype": "text/x-python",
   "name": "python",
   "nbconvert_exporter": "python",
   "pygments_lexer": "ipython3",
   "version": "3.13.7"
  }
 },
 "nbformat": 4,
 "nbformat_minor": 5
}
