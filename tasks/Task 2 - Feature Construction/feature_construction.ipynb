{
 "cells": [
  {
   "cell_type": "markdown",
   "id": "54ffd5f8",
   "metadata": {},
   "source": [
    "## Import Libraries"
   ]
  },
  {
   "cell_type": "code",
   "execution_count": 1,
   "id": "2d0b1c9f",
   "metadata": {},
   "outputs": [],
   "source": [
    "import pandas as pd"
   ]
  },
  {
   "cell_type": "markdown",
   "id": "13701527",
   "metadata": {},
   "source": [
    "## Load the dataset"
   ]
  },
  {
   "cell_type": "code",
   "execution_count": 12,
   "id": "6cdfa69e",
   "metadata": {},
   "outputs": [],
   "source": [
    "df = pd.read_csv('/Users/pofilla/Library/Mobile Documents/com~apple~CloudDocs/University/7th Term/Data Mining/Project/Breast Cancer Diagnostic Data Mining/Docs/data.csv')"
   ]
  },
  {
   "cell_type": "markdown",
   "id": "d0062d10",
   "metadata": {},
   "source": [
    "### 1. Area-to-Perimeter Mean Ratio (rounded to 2 decimal places)"
   ]
  },
  {
   "cell_type": "code",
   "execution_count": 13,
   "id": "1de96fff",
   "metadata": {},
   "outputs": [],
   "source": [
    "df['area_to_perimeter_mean'] = (df['area_mean'] / df['perimeter_mean']).round(2)"
   ]
  },
  {
   "cell_type": "markdown",
   "id": "102bd0df",
   "metadata": {},
   "source": [
    "### 2. Radius Range (rounded to 2 decimal places)"
   ]
  },
  {
   "cell_type": "code",
   "execution_count": 14,
   "id": "f1bb73e3",
   "metadata": {},
   "outputs": [],
   "source": [
    "df['radius_range'] = (df['radius_worst'] - df['radius_mean']).round(2)"
   ]
  },
  {
   "cell_type": "markdown",
   "id": "e97b78a1",
   "metadata": {},
   "source": [
    "### 3. Area Range (rounded to 2 decimal places)"
   ]
  },
  {
   "cell_type": "code",
   "execution_count": 15,
   "id": "01da4f71",
   "metadata": {},
   "outputs": [],
   "source": [
    "df['area_range'] = (df['area_worst'] - df['area_mean']).round(2)"
   ]
  },
  {
   "cell_type": "markdown",
   "id": "526d3a39",
   "metadata": {},
   "source": [
    "### 4. Concavity-to-Compactness Ratio (rounded to 2 decimal places)"
   ]
  },
  {
   "cell_type": "code",
   "execution_count": 16,
   "id": "a82b034a",
   "metadata": {},
   "outputs": [],
   "source": [
    "df['concavity_to_compactness_mean'] = (df['concavity_mean'] / df['compactness_mean']).round(2)"
   ]
  },
  {
   "cell_type": "markdown",
   "id": "fd937ce0",
   "metadata": {},
   "source": [
    "### 5. Severity Index (rounded to 2 decimal places)"
   ]
  },
  {
   "cell_type": "code",
   "execution_count": 17,
   "id": "58d9ddb1",
   "metadata": {},
   "outputs": [],
   "source": [
    "df['severity_index'] = (df['area_worst'] + df['concave points_worst']).round(2)"
   ]
  },
  {
   "cell_type": "markdown",
   "id": "bf2c5dbb",
   "metadata": {},
   "source": [
    "### 6. Shape Complexity Mean (rounded to 2 decimal places)"
   ]
  },
  {
   "cell_type": "code",
   "execution_count": 18,
   "id": "1bef9097",
   "metadata": {},
   "outputs": [],
   "source": [
    "df['shape_complexity_mean'] = (\n",
    "    (df['smoothness_mean'] + df['compactness_mean'] + df['concavity_mean'] + df['concave points_mean']) / 4\n",
    ").round(2)"
   ]
  },
  {
   "cell_type": "markdown",
   "id": "f314b88d",
   "metadata": {},
   "source": [
    "## Display the first few rows to verify"
   ]
  },
  {
   "cell_type": "code",
   "execution_count": 21,
   "id": "133170e2",
   "metadata": {},
   "outputs": [
    {
     "name": "stdout",
     "output_type": "stream",
     "text": [
      "         id diagnosis  radius_mean  texture_mean  perimeter_mean  area_mean  \\\n",
      "0    842302         M        17.99         10.38          122.80     1001.0   \n",
      "1    842517         M        20.57         17.77          132.90     1326.0   \n",
      "2  84300903         M        19.69         21.25          130.00     1203.0   \n",
      "3  84348301         M        11.42         20.38           77.58      386.1   \n",
      "4  84358402         M        20.29         14.34          135.10     1297.0   \n",
      "\n",
      "   smoothness_mean  compactness_mean  concavity_mean  concave points_mean  \\\n",
      "0          0.11840           0.27760          0.3001              0.14710   \n",
      "1          0.08474           0.07864          0.0869              0.07017   \n",
      "2          0.10960           0.15990          0.1974              0.12790   \n",
      "3          0.14250           0.28390          0.2414              0.10520   \n",
      "4          0.10030           0.13280          0.1980              0.10430   \n",
      "\n",
      "   ...  concavity_worst  concave points_worst  symmetry_worst  \\\n",
      "0  ...           0.7119                0.2654          0.4601   \n",
      "1  ...           0.2416                0.1860          0.2750   \n",
      "2  ...           0.4504                0.2430          0.3613   \n",
      "3  ...           0.6869                0.2575          0.6638   \n",
      "4  ...           0.4000                0.1625          0.2364   \n",
      "\n",
      "   fractal_dimension_worst  area_to_perimeter_mean  radius_range  area_range  \\\n",
      "0                  0.11890                    8.15          7.39      1018.0   \n",
      "1                  0.08902                    9.98          4.42       630.0   \n",
      "2                  0.08758                    9.25          3.88       506.0   \n",
      "3                  0.17300                    4.98          3.49       181.6   \n",
      "4                  0.07678                    9.60          2.25       278.0   \n",
      "\n",
      "   concavity_to_compactness_mean  severity_index  shape_complexity_mean  \n",
      "0                           1.08         2019.27                   0.21  \n",
      "1                           1.11         1956.19                   0.08  \n",
      "2                           1.23         1709.24                   0.15  \n",
      "3                           0.85          567.96                   0.19  \n",
      "4                           1.49         1575.16                   0.13  \n",
      "\n",
      "[5 rows x 38 columns]\n"
     ]
    }
   ],
   "source": [
    "print(df.head())"
   ]
  },
  {
   "cell_type": "markdown",
   "id": "23d50508",
   "metadata": {},
   "source": [
    "## Save the updated dataset to a new CSV file"
   ]
  },
  {
   "cell_type": "code",
   "execution_count": 22,
   "id": "0029d419",
   "metadata": {},
   "outputs": [],
   "source": [
    "df.to_csv('feature_constructed_dataset.csv', index=False)"
   ]
  }
 ],
 "metadata": {
  "kernelspec": {
   "display_name": "Python 3",
   "language": "python",
   "name": "python3"
  },
  "language_info": {
   "codemirror_mode": {
    "name": "ipython",
    "version": 3
   },
   "file_extension": ".py",
   "mimetype": "text/x-python",
   "name": "python",
   "nbconvert_exporter": "python",
   "pygments_lexer": "ipython3",
   "version": "3.13.7"
  }
 },
 "nbformat": 4,
 "nbformat_minor": 5
}
